{
 "cells": [
  {
   "cell_type": "code",
   "execution_count": 4,
   "id": "dd6034e8",
   "metadata": {},
   "outputs": [
    {
     "name": "stdout",
     "output_type": "stream",
     "text": [
      "[(1, 2), (2, 5), (4, 4), (2, 3), (2, 1)]\n",
      "[(1, 2), (4, 4), (2, 5), (2, 3), (2, 1)]\n",
      "[(1, 2), (2, 3), (2, 5), (4, 4), (2, 1)]\n",
      "[(1, 2), (2, 3), (4, 4), (2, 5), (2, 1)]\n",
      "[(2, 1), (2, 3), (4, 4), (2, 5), (1, 2)]\n",
      "[(2, 1), (1, 2), (4, 4), (2, 5), (2, 3)]\n",
      "[(2, 1), (1, 2), (2, 3), (2, 5), (4, 4)]\n",
      "[(2, 1), (1, 2), (2, 3), (4, 4), (2, 5)]\n"
     ]
    }
   ],
   "source": [
    "# Write a Python program to get a list, sorted in increasing order by the last element in each tuple from a given list of non-empty tuples\n",
    "#Sample List : [(2, 5), (1, 2), (4, 4), (2, 3), (2, 1)]\n",
    "\n",
    "#Expected Result : [(2, 1), (1, 2), (2, 3), (4, 4), (2, 5)]\n",
    "\n",
    "\n",
    "list= [(2, 5), (1, 2), (4, 4), (2, 3), (2, 1)]\n",
    "for i in range(len(list)):\n",
    "    for j in range(len(list)):\n",
    "        if list[i][-1]<list[j][-1]:\n",
    "            list[i],list[j]=list[j],list[i]\n",
    "            print(list)\n",
    "    \n",
    "\n",
    "\n",
    "\n"
   ]
  },
  {
   "cell_type": "code",
   "execution_count": null,
   "id": "e52e93a2",
   "metadata": {},
   "outputs": [],
   "source": []
  }
 ],
 "metadata": {
  "kernelspec": {
   "display_name": "Python 3 (ipykernel)",
   "language": "python",
   "name": "python3"
  },
  "language_info": {
   "codemirror_mode": {
    "name": "ipython",
    "version": 3
   },
   "file_extension": ".py",
   "mimetype": "text/x-python",
   "name": "python",
   "nbconvert_exporter": "python",
   "pygments_lexer": "ipython3",
   "version": "3.9.12"
  }
 },
 "nbformat": 4,
 "nbformat_minor": 5
}
